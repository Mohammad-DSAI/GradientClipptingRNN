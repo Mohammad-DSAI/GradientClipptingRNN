{
  "nbformat": 4,
  "nbformat_minor": 0,
  "metadata": {
    "colab": {
      "provenance": []
    },
    "kernelspec": {
      "name": "python3",
      "display_name": "Python 3"
    },
    "language_info": {
      "name": "python"
    }
  },
  "cells": [
    {
      "cell_type": "code",
      "execution_count": 1,
      "metadata": {
        "id": "RrkSSdd-WQ9U"
      },
      "outputs": [],
      "source": [
        "import numpy as np\n",
        "from utils import *\n",
        "import random\n",
        "import pprint\n",
        "import copy"
      ]
    },
    {
      "cell_type": "code",
      "source": [
        "data = open('dinos.txt', 'r').read()\n",
        "data= data.lower()\n",
        "#print(data)\n",
        "#print(set(data))\n",
        "chars = list(set(data))\n",
        "#print(chars)\n",
        "data_size, vocab_size = len(data), len(chars)\n",
        "print('There are %d total characters and %d unique characters in your data.' % (data_size, vocab_size))"
      ],
      "metadata": {
        "colab": {
          "base_uri": "https://localhost:8080/"
        },
        "id": "VksG9NvOdixg",
        "outputId": "c66508cd-d4b5-4175-d7a3-f940a5d5cb6d"
      },
      "execution_count": 7,
      "outputs": [
        {
          "output_type": "stream",
          "name": "stdout",
          "text": [
            "There are 19909 total characters and 27 unique characters in your data.\n"
          ]
        }
      ]
    },
    {
      "cell_type": "markdown",
      "source": [
        "note: The characters are a-z (26 characters) plus the \"\\n\" (or newline character)"
      ],
      "metadata": {
        "id": "QXd8MLQihdgw"
      }
    },
    {
      "cell_type": "code",
      "source": [
        "chars = sorted(chars)\n",
        "print(chars)"
      ],
      "metadata": {
        "colab": {
          "base_uri": "https://localhost:8080/"
        },
        "id": "q4Td6v5khgCS",
        "outputId": "4184e826-cc16-441d-d050-f684de47f7dc"
      },
      "execution_count": 8,
      "outputs": [
        {
          "output_type": "stream",
          "name": "stdout",
          "text": [
            "['\\n', 'a', 'b', 'c', 'd', 'e', 'f', 'g', 'h', 'i', 'j', 'k', 'l', 'm', 'n', 'o', 'p', 'q', 'r', 's', 't', 'u', 'v', 'w', 'x', 'y', 'z']\n"
          ]
        }
      ]
    },
    {
      "cell_type": "code",
      "source": [
        "char_to_ix = { ch:i for i,ch in enumerate(chars) }\n",
        "ix_to_char = { i:ch for i,ch in enumerate(chars) }\n",
        "pp = pprint.PrettyPrinter(indent=4)\n",
        "pp.pprint(ix_to_char)"
      ],
      "metadata": {
        "id": "uTNDa1QelzfN"
      },
      "execution_count": null,
      "outputs": []
    },
    {
      "cell_type": "markdown",
      "source": [
        "**Gradient Clipping**"
      ],
      "metadata": {
        "id": "45kcikLPzHqf"
      }
    },
    {
      "cell_type": "code",
      "source": [
        "# UNQ_C1 (UNIQUE CELL IDENTIFIER, DO NOT EDIT)\n",
        "### GRADED FUNCTION: clip\n",
        "\n",
        "def clip(gradients, maxValue):\n",
        "    '''\n",
        "    Clips the gradients' values between minimum and maximum.\n",
        "\n",
        "    Arguments:\n",
        "    gradients -- a dictionary containing the gradients \"dWaa\", \"dWax\", \"dWya\", \"db\", \"dby\"\n",
        "    maxValue -- everything above this number is set to this number, and everything less than -maxValue is set to -maxValue\n",
        "\n",
        "    Returns:\n",
        "    gradients -- a dictionary with the clipped gradients.\n",
        "    '''\n",
        "    gradients = copy.deepcopy(gradients)\n",
        "\n",
        "    dWaa, dWax, dWya, db, dby = gradients['dWaa'], gradients['dWax'], gradients['dWya'], gradients['db'], gradients['dby']\n",
        "\n",
        "    ### START CODE HERE ###\n",
        "    # Clip to mitigate exploding gradients, loop over [dWax, dWaa, dWya, db, dby]. (≈2 lines)\n",
        "    for gradient in gradients:\n",
        "        np.clip(gradients[gradient], -maxValue, maxValue, out = gradients[gradient])\n",
        "    ### END CODE HERE ###\n",
        "\n",
        "    gradients = {\"dWaa\": dWaa, \"dWax\": dWax, \"dWya\": dWya, \"db\": db, \"dby\": dby}\n",
        "\n",
        "    return gradients\n"
      ],
      "metadata": {
        "id": "CrKYjtKWzLBU"
      },
      "execution_count": 10,
      "outputs": []
    },
    {
      "cell_type": "code",
      "source": [
        "# Test with a max value of 10\n",
        "def clip_test(target, mValue):\n",
        "    print(f\"\\nGradients for mValue={mValue}\")\n",
        "    np.random.seed(3)\n",
        "    dWax = np.random.randn(5, 3) * 10\n",
        "    dWaa = np.random.randn(5, 5) * 10\n",
        "    dWya = np.random.randn(2, 5) * 10\n",
        "    db = np.random.randn(5, 1) * 10\n",
        "    dby = np.random.randn(2, 1) * 10\n",
        "    gradients = {\"dWax\": dWax, \"dWaa\": dWaa, \"dWya\": dWya, \"db\": db, \"dby\": dby}\n",
        "\n",
        "    gradients2 = target(gradients, mValue)\n",
        "    print(\"gradients[\\\"dWaa\\\"][1][2] =\", gradients2[\"dWaa\"][1][2])\n",
        "    print(\"gradients[\\\"dWax\\\"][3][1] =\", gradients2[\"dWax\"][3][1])\n",
        "    print(\"gradients[\\\"dWya\\\"][1][2] =\", gradients2[\"dWya\"][1][2])\n",
        "    print(\"gradients[\\\"db\\\"][4] =\", gradients2[\"db\"][4])\n",
        "    print(\"gradients[\\\"dby\\\"][1] =\", gradients2[\"dby\"][1])\n",
        "\n",
        "    for grad in gradients2.keys():\n",
        "        valuei = gradients[grad]\n",
        "        valuef = gradients2[grad]\n",
        "        mink = np.min(valuef)\n",
        "        maxk = np.max(valuef)\n",
        "        assert mink >= -abs(mValue), f\"Problem with {grad}. Set a_min to -mValue in the np.clip call\"\n",
        "        assert maxk <= abs(mValue), f\"Problem with {grad}.Set a_max to mValue in the np.clip call\"\n",
        "        index_not_clipped = np.logical_and(valuei <= mValue, valuei >= -mValue)\n",
        "        assert np.all(valuei[index_not_clipped] == valuef[index_not_clipped]), f\" Problem with {grad}. Some values that should not have changed, changed during the clipping process.\"\n",
        "\n",
        "    print(\"\\033[92mAll tests passed!\\x1b[0m\")\n",
        "\n",
        "clip_test(clip, 10)\n",
        "clip_test(clip, 5)"
      ],
      "metadata": {
        "colab": {
          "base_uri": "https://localhost:8080/"
        },
        "id": "HYMFZ6dazTg3",
        "outputId": "ce01be46-97d4-4768-d08c-a73c2b13ac68"
      },
      "execution_count": 11,
      "outputs": [
        {
          "output_type": "stream",
          "name": "stdout",
          "text": [
            "\n",
            "Gradients for mValue=10\n",
            "gradients[\"dWaa\"][1][2] = 10.0\n",
            "gradients[\"dWax\"][3][1] = -10.0\n",
            "gradients[\"dWya\"][1][2] = 0.2971381536101662\n",
            "gradients[\"db\"][4] = [10.]\n",
            "gradients[\"dby\"][1] = [8.45833407]\n",
            "\u001b[92mAll tests passed!\u001b[0m\n",
            "\n",
            "Gradients for mValue=5\n",
            "gradients[\"dWaa\"][1][2] = 5.0\n",
            "gradients[\"dWax\"][3][1] = -5.0\n",
            "gradients[\"dWya\"][1][2] = 0.2971381536101662\n",
            "gradients[\"db\"][4] = [5.]\n",
            "gradients[\"dby\"][1] = [5.]\n",
            "\u001b[92mAll tests passed!\u001b[0m\n"
          ]
        }
      ]
    },
    {
      "cell_type": "markdown",
      "source": [
        "**`Sampling`**\n",
        "\n",
        "((Sampling is a technique you can use to pick the index of the next character according to a probability distribution))\n",
        "\n",
        "Now, assume that your model is trained, and you would like to generate new text (characters)"
      ],
      "metadata": {
        "id": "4NuSJtVJz6kc"
      }
    },
    {
      "cell_type": "code",
      "source": [
        "# UNQ_C2 (UNIQUE CELL IDENTIFIER, DO NOT EDIT)\n",
        "# GRADED FUNCTION: sample\n",
        "\n",
        "def sample(parameters, char_to_ix, seed):\n",
        "    \"\"\"\n",
        "    Sample a sequence of characters according to a sequence of probability distributions output of the RNN\n",
        "\n",
        "    Arguments:\n",
        "    parameters -- Python dictionary containing the parameters Waa, Wax, Wya, by, and b.\n",
        "    char_to_ix -- Python dictionary mapping each character to an index.\n",
        "    seed -- Used for grading purposes. Do not worry about it.\n",
        "\n",
        "    Returns:\n",
        "    indices -- A list of length n containing the indices of the sampled characters.\n",
        "    \"\"\"\n",
        "\n",
        "    # Retrieve parameters and relevant shapes from \"parameters\" dictionary\n",
        "    Waa, Wax, Wya, by, b = parameters['Waa'], parameters['Wax'], parameters['Wya'], parameters['by'], parameters['b']\n",
        "    vocab_size = by.shape[0]\n",
        "    n_a = Waa.shape[1]\n",
        "\n",
        "    ### START CODE HERE ###\n",
        "    # Step 1: Create the a zero vector x that can be used as the one-hot vector\n",
        "    # Representing the first character (initializing the sequence generation). (≈1 line)\n",
        "    x = np.zeros((vocab_size,1))\n",
        "    # Step 1': Initialize a_prev as zeros (≈1 line)\n",
        "    a_prev = np.zeros((n_a ,1))\n",
        "\n",
        "    # Create an empty list of indices. This is the list which will contain the list of indices of the characters to generate (≈1 line)\n",
        "    indices = []\n",
        "\n",
        "    # idx is the index of the one-hot vector x that is set to 1\n",
        "    # All other positions in x are zero.\n",
        "    # Initialize idx to -1\n",
        "    idx = -1\n",
        "\n",
        "    # Loop over time-steps t. At each time-step:\n",
        "    # Sample a character from a probability distribution\n",
        "    # And append its index (`idx`) to the list \"indices\".\n",
        "    # You'll stop if you reach 50 characters\n",
        "    # (which should be very unlikely with a well-trained model).\n",
        "    # Setting the maximum number of characters helps with debugging and prevents infinite loops.\n",
        "    counter = 0\n",
        "    newline_character = char_to_ix['\\n']\n",
        "\n",
        "    while (idx != newline_character and counter != 50):\n",
        "\n",
        "        # Step 2: Forward propagate x using the equations (1), (2) and (3)\n",
        "        a = np.tanh(np.dot(Wax,x) + np.dot(Waa,a_prev) + b)\n",
        "        z = np.dot(Wya,a) + by\n",
        "        y = softmax(z)\n",
        "\n",
        "        # For grading purposes\n",
        "        np.random.seed(counter + seed)\n",
        "\n",
        "        # Step 3: Sample the index of a character within the vocabulary from the probability distribution y\n",
        "        # (see additional hints above)\n",
        "        idx = np.random.choice(range(len(y)), p = np.squeeze(y) )\n",
        "\n",
        "        # Append the index to \"indices\"\n",
        "        indices.append(idx)\n",
        "\n",
        "        # Step 4: Overwrite the input x with one that corresponds to the sampled index `idx`.\n",
        "        # (see additional hints above)\n",
        "        x = np.zeros((vocab_size,1))\n",
        "        x[idx] = 1\n",
        "\n",
        "        # Update \"a_prev\" to be \"a\"\n",
        "        a_prev = a\n",
        "\n",
        "        # for grading purposes\n",
        "        seed += 1\n",
        "\n",
        "        counter +=1\n",
        "\n",
        "    ### END CODE HERE ###\n",
        "\n",
        "    if (counter == 50):\n",
        "        indices.append(char_to_ix['\\n'])\n",
        "\n",
        "    return indices\n",
        "\n"
      ],
      "metadata": {
        "id": "t5zQAURuz8xY"
      },
      "execution_count": 12,
      "outputs": []
    },
    {
      "cell_type": "code",
      "source": [
        "def sample_test(target):\n",
        "    np.random.seed(24)\n",
        "    _, n_a = 20, 100\n",
        "    Wax, Waa, Wya = np.random.randn(n_a, vocab_size), np.random.randn(n_a, n_a), np.random.randn(vocab_size, n_a)\n",
        "    b, by = np.random.randn(n_a, 1), np.random.randn(vocab_size, 1)\n",
        "    parameters = {\"Wax\": Wax, \"Waa\": Waa, \"Wya\": Wya, \"b\": b, \"by\": by}\n",
        "\n",
        "\n",
        "    indices = target(parameters, char_to_ix, 0)\n",
        "    print(\"Sampling:\")\n",
        "    print(\"list of sampled indices:\\n\", indices)\n",
        "    print(\"list of sampled characters:\\n\", [ix_to_char[i] for i in indices])\n",
        "\n",
        "    assert len(indices) < 52, \"Indices lenght must be smaller than 52\"\n",
        "    assert indices[-1] == char_to_ix['\\n'], \"All samples must end with \\\\n\"\n",
        "    assert min(indices) >= 0 and max(indices) < len(char_to_ix), f\"Sampled indexes must be between 0 and len(char_to_ix)={len(char_to_ix)}\"\n",
        "    assert np.allclose(indices[0:6], [23, 16, 26, 26, 24, 3]), \"Wrong values\"\n",
        "\n",
        "    print(\"\\033[92mAll tests passed!\")\n",
        "\n",
        "sample_test(sample)"
      ],
      "metadata": {
        "id": "73kfm0db15X2"
      },
      "execution_count": null,
      "outputs": []
    },
    {
      "cell_type": "markdown",
      "source": [
        "**Building the Language Model**\n",
        "**Gradient Descent**\n",
        "**optimize**"
      ],
      "metadata": {
        "id": "C7zfRzgz7PKd"
      }
    },
    {
      "cell_type": "code",
      "source": [
        "# UNQ_C3 (UNIQUE CELL IDENTIFIER, DO NOT EDIT)\n",
        "# GRADED FUNCTION: optimize\n",
        "\n",
        "def optimize(X, Y, a_prev, parameters, learning_rate = 0.01):\n",
        "    \"\"\"\n",
        "    Execute one step of the optimization to train the model.\n",
        "\n",
        "    Arguments:\n",
        "    X -- list of integers, where each integer is a number that maps to a character in the vocabulary.\n",
        "    Y -- list of integers, exactly the same as X but shifted one index to the left.\n",
        "    a_prev -- previous hidden state.\n",
        "    parameters -- python dictionary containing:\n",
        "                        Wax -- Weight matrix multiplying the input, numpy array of shape (n_a, n_x)\n",
        "                        Waa -- Weight matrix multiplying the hidden state, numpy array of shape (n_a, n_a)\n",
        "                        Wya -- Weight matrix relating the hidden-state to the output, numpy array of shape (n_y, n_a)\n",
        "                        b --  Bias, numpy array of shape (n_a, 1)\n",
        "                        by -- Bias relating the hidden-state to the output, numpy array of shape (n_y, 1)\n",
        "    learning_rate -- learning rate for the model.\n",
        "\n",
        "    Returns:\n",
        "    loss -- value of the loss function (cross-entropy)\n",
        "    gradients -- python dictionary containing:\n",
        "                        dWax -- Gradients of input-to-hidden weights, of shape (n_a, n_x)\n",
        "                        dWaa -- Gradients of hidden-to-hidden weights, of shape (n_a, n_a)\n",
        "                        dWya -- Gradients of hidden-to-output weights, of shape (n_y, n_a)\n",
        "                        db -- Gradients of bias vector, of shape (n_a, 1)\n",
        "                        dby -- Gradients of output bias vector, of shape (n_y, 1)\n",
        "    a[len(X)-1] -- the last hidden state, of shape (n_a, 1)\n",
        "    \"\"\"\n",
        "\n",
        "    ### START CODE HERE ###\n",
        "\n",
        "    # Forward propagate through time (≈1 line)\n",
        "    loss, cache = rnn_forward(X, Y, a_prev, parameters)\n",
        "\n",
        "    # Backpropagate through time (≈1 line)\n",
        "    gradients, a = rnn_backward(X, Y, parameters, cache)\n",
        "\n",
        "    # Clip your gradients between -5 (min) and 5 (max) (≈1 line)\n",
        "    gradients = clip(gradients, 5)\n",
        "\n",
        "    # Update parameters (≈1 line)\n",
        "    parameters = update_parameters(parameters, gradients, learning_rate)\n",
        "\n",
        "    ### END CODE HERE ###\n",
        "\n",
        "    return loss, gradients, a[len(X)-1]\n"
      ],
      "metadata": {
        "id": "-K4tEZIy8-Av"
      },
      "execution_count": 15,
      "outputs": []
    },
    {
      "cell_type": "code",
      "source": [
        "def optimize_test(target):\n",
        "    np.random.seed(1)\n",
        "    vocab_size, n_a = 27, 100\n",
        "    a_prev = np.random.randn(n_a, 1)\n",
        "    Wax, Waa, Wya = np.random.randn(n_a, vocab_size), np.random.randn(n_a, n_a), np.random.randn(vocab_size, n_a)\n",
        "    b, by = np.random.randn(n_a, 1), np.random.randn(vocab_size, 1)\n",
        "    parameters = {\"Wax\": Wax, \"Waa\": Waa, \"Wya\": Wya, \"b\": b, \"by\": by}\n",
        "    X = [12, 3, 5, 11, 22, 3]\n",
        "    Y = [4, 14, 11, 22, 25, 26]\n",
        "    old_parameters = copy.deepcopy(parameters)\n",
        "    loss, gradients, a_last = target(X, Y, a_prev, parameters, learning_rate = 0.01)\n",
        "    print(\"Loss =\", loss)\n",
        "    print(\"gradients[\\\"dWaa\\\"][1][2] =\", gradients[\"dWaa\"][1][2])\n",
        "    print(\"np.argmax(gradients[\\\"dWax\\\"]) =\", np.argmax(gradients[\"dWax\"]))\n",
        "    print(\"gradients[\\\"dWya\\\"][1][2] =\", gradients[\"dWya\"][1][2])\n",
        "    print(\"gradients[\\\"db\\\"][4] =\", gradients[\"db\"][4])\n",
        "    print(\"gradients[\\\"dby\\\"][1] =\", gradients[\"dby\"][1])\n",
        "    print(\"a_last[4] =\", a_last[4])\n",
        "\n",
        "    assert np.isclose(loss, 126.5039757), \"Problems with the call of the rnn_forward function\"\n",
        "    for grad in gradients.values():\n",
        "        assert np.min(grad) >= -5, \"Problems in the clip function call\"\n",
        "        assert np.max(grad) <= 5, \"Problems in the clip function call\"\n",
        "    assert np.allclose(gradients['dWaa'][1, 2], 0.1947093), \"Unexpected gradients. Check the rnn_backward call\"\n",
        "    assert np.allclose(gradients['dWya'][1, 2], -0.007773876), \"Unexpected gradients. Check the rnn_backward call\"\n",
        "    assert not np.allclose(parameters['Wya'], old_parameters['Wya']), \"parameters were not updated\"\n",
        "\n",
        "    print(\"\\033[92mAll tests passed!\")\n",
        "\n",
        "optimize_test(optimize)"
      ],
      "metadata": {
        "id": "BFFiCq2H_mnT"
      },
      "execution_count": null,
      "outputs": []
    },
    {
      "cell_type": "markdown",
      "source": [
        "**Training the Model**"
      ],
      "metadata": {
        "id": "J-8q5fUgANPX"
      }
    },
    {
      "cell_type": "code",
      "source": [
        "# UNQ_C4 (UNIQUE CELL IDENTIFIER, DO NOT EDIT)\n",
        "# GRADED FUNCTION: model\n",
        "\n",
        "def model(data_x, ix_to_char, char_to_ix, num_iterations = 35000, n_a = 50, dino_names = 7, vocab_size = 27, verbose = False):\n",
        "    \"\"\"\n",
        "    Trains the model and generates dinosaur names.\n",
        "\n",
        "    Arguments:\n",
        "    data_x -- text corpus, divided in words\n",
        "    ix_to_char -- dictionary that maps the index to a character\n",
        "    char_to_ix -- dictionary that maps a character to an index\n",
        "    num_iterations -- number of iterations to train the model for\n",
        "    n_a -- number of units of the RNN cell\n",
        "    dino_names -- number of dinosaur names you want to sample at each iteration.\n",
        "    vocab_size -- number of unique characters found in the text (size of the vocabulary)\n",
        "\n",
        "    Returns:\n",
        "    parameters -- learned parameters\n",
        "    \"\"\"\n",
        "\n",
        "    # Retrieve n_x and n_y from vocab_size\n",
        "    n_x, n_y = vocab_size, vocab_size\n",
        "\n",
        "    # Initialize parameters\n",
        "    parameters = initialize_parameters(n_a, n_x, n_y)\n",
        "\n",
        "    # Initialize loss (this is required because we want to smooth our loss)\n",
        "    loss = get_initial_loss(vocab_size, dino_names)\n",
        "\n",
        "    # Build list of all dinosaur names (training examples).\n",
        "    examples = [x.strip() for x in data_x]\n",
        "\n",
        "    # Shuffle list of all dinosaur names\n",
        "    np.random.seed(0)\n",
        "    np.random.shuffle(examples)\n",
        "\n",
        "    # Initialize the hidden state of your LSTM\n",
        "    a_prev = np.zeros((n_a, 1))\n",
        "\n",
        "    # for grading purposes\n",
        "    last_dino_name = \"abc\"\n",
        "\n",
        "    # Optimization loop\n",
        "    for j in range(num_iterations):\n",
        "\n",
        "        ### START CODE HERE ###\n",
        "\n",
        "        # Set the index `idx` (see instructions above)\n",
        "        idx = j%len(examples)\n",
        "\n",
        "        # Set the input X (see instructions above)\n",
        "        single_example_chars = examples[idx]\n",
        "        single_example_ix = [char_to_ix[c] for c in single_example_chars]\n",
        "\n",
        "        # if X[t] == None, we just have x[t]=0. This is used to set the input for the first timestep to the zero vector.\n",
        "        X = [None] + single_example_ix\n",
        "\n",
        "        # Set the labels Y (see instructions above)\n",
        "        # The goal is to train the RNN to predict the next letter in the name\n",
        "        # So the labels are the list of characters that are one time-step ahead of the characters in the input X\n",
        "        Y = X[1:]\n",
        "        # The RNN should predict a newline at the last letter, so add ix_newline to the end of the labels\n",
        "        ix_newline = [char_to_ix[\"\\n\"]]\n",
        "        Y = Y + ix_newline\n",
        "\n",
        "        # Perform one optimization step: Forward-prop -> Backward-prop -> Clip -> Update parameters\n",
        "        # Choose a learning rate of 0.01\n",
        "        curr_loss, gradients, a_prev = optimize(X, Y, a_prev, parameters, learning_rate = 0.01)\n",
        "\n",
        "        ### END CODE HERE ###\n",
        "\n",
        "        # debug statements to aid in correctly forming X, Y\n",
        "        if verbose and j in [0, len(examples) -1, len(examples)]:\n",
        "            print(\"j = \" , j, \"idx = \", idx,)\n",
        "        if verbose and j in [0]:\n",
        "            #print(\"single_example =\", single_example)\n",
        "            print(\"single_example_chars\", single_example_chars)\n",
        "            print(\"single_example_ix\", single_example_ix)\n",
        "            print(\" X = \", X, \"\\n\", \"Y =       \", Y, \"\\n\")\n",
        "\n",
        "        # Use a latency trick to keep the loss smooth. It happens here to accelerate the training.\n",
        "        loss = smooth(loss, curr_loss)\n",
        "\n",
        "        # Every 1000 Iteration, generate \"n\" characters thanks to sample() to check if the model is learning properly\n",
        "        if j % 1000 == 0:\n",
        "\n",
        "            print('Iteration: %d, Loss: %f' % (j, loss) + '\\n')\n",
        "\n",
        "            # The number of dinosaur names to print\n",
        "            seed = 0\n",
        "            for name in range(dino_names):\n",
        "\n",
        "                # Sample indices and print them\n",
        "                sampled_indices = sample(parameters, char_to_ix, seed)\n",
        "                last_dino_name = get_sample(sampled_indices, ix_to_char)\n",
        "                print(last_dino_name.replace('\\n', ''))\n",
        "\n",
        "                seed += 1  # To get the same result (for grading purposes), increment the seed by one.\n",
        "\n",
        "            print('\\n')\n",
        "\n",
        "    return parameters, last_dino_name"
      ],
      "metadata": {
        "id": "InJMM90rALZE"
      },
      "execution_count": 17,
      "outputs": []
    },
    {
      "cell_type": "code",
      "source": [
        "parameters, last_name = model(data.split(\"\\n\"), ix_to_char, char_to_ix, 22001, verbose = True)\n",
        "\n",
        "assert last_name == 'Trodonosaurus\\n', \"Wrong expected output\"\n",
        "print(\"\\033[92mAll tests passed!\")"
      ],
      "metadata": {
        "id": "Glc8vVQDAzEW"
      },
      "execution_count": null,
      "outputs": []
    },
    {
      "cell_type": "markdown",
      "source": [
        "**4 - Writing like Shakespeare (OPTIONAL/UNGRADED)**"
      ],
      "metadata": {
        "id": "fTng7sHEC50d"
      }
    },
    {
      "cell_type": "code",
      "source": [
        "from __future__ import print_function\n",
        "from tensorflow.keras.callbacks import LambdaCallback\n",
        "from tensorflow.keras.models import Model, load_model, Sequential\n",
        "from tensorflow.keras.layers import Dense, Activation, Dropout, Input, Masking\n",
        "from tensorflow.keras.layers import LSTM\n",
        "from tensorflow.keras.utils import get_file\n",
        "from tensorflow.keras.preprocessing.sequence import pad_sequences\n",
        "from shakespeare_utils import *\n",
        "import sys\n",
        "import io\n",
        "print(\"\\nModel & Data Loaded\\n\")"
      ],
      "metadata": {
        "id": "gphIVT1GC7Zp"
      },
      "execution_count": null,
      "outputs": []
    },
    {
      "cell_type": "code",
      "source": [
        "# Run this cell to try with different inputs without having to re-train the model\n",
        "generate_output()"
      ],
      "metadata": {
        "id": "UGcbVrIaDZ4V"
      },
      "execution_count": null,
      "outputs": []
    }
  ]
}